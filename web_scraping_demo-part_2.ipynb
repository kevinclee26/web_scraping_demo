{
 "cells": [
  {
   "cell_type": "markdown",
   "id": "c8bee7a6-90fa-4e58-b849-e712b31e737d",
   "metadata": {},
   "source": [
    "### Part 2. Writing to Database ###\n",
    "1. Pandas\n",
    "2. Using SQL Queries\n",
    "3. Using ORM"
   ]
  },
  {
   "cell_type": "code",
   "execution_count": 1,
   "id": "8e948c21-8924-4987-b4bb-47d409ec96b2",
   "metadata": {},
   "outputs": [],
   "source": [
    "# import dependencies\n",
    "import sqlalchemy as sql\n",
    "import csv"
   ]
  },
  {
   "cell_type": "code",
   "execution_count": 3,
   "id": "abdf0f07-fdd2-46b1-97bf-2abd24b57d2a",
   "metadata": {},
   "outputs": [],
   "source": [
    "# connect to db\n",
    "db_url='db/database.sqlite'\n",
    "connection_url=f'sqlite:///{db_url}'\n",
    "\n",
    "engine=sql.create_engine(connection_url)"
   ]
  },
  {
   "cell_type": "markdown",
   "id": "f52b523b-1794-4f74-8f43-71312bdc56da",
   "metadata": {},
   "source": [
    "#### Option 1. Pandas ####"
   ]
  },
  {
   "cell_type": "code",
   "execution_count": 2,
   "id": "5490df76-09b2-435f-9673-c522ab88e767",
   "metadata": {},
   "outputs": [
    {
     "name": "stderr",
     "output_type": "stream",
     "text": [
      "/Users/kevinlee/anaconda3/lib/python3.7/site-packages/pandas/compat/_optional.py:138: UserWarning: Pandas requires version '2.7.0' or newer of 'numexpr' (version '2.6.8' currently installed).\n",
      "  warnings.warn(msg, UserWarning)\n"
     ]
    },
    {
     "data": {
      "text/html": [
       "<div>\n",
       "<style scoped>\n",
       "    .dataframe tbody tr th:only-of-type {\n",
       "        vertical-align: middle;\n",
       "    }\n",
       "\n",
       "    .dataframe tbody tr th {\n",
       "        vertical-align: top;\n",
       "    }\n",
       "\n",
       "    .dataframe thead th {\n",
       "        text-align: right;\n",
       "    }\n",
       "</style>\n",
       "<table border=\"1\" class=\"dataframe\">\n",
       "  <thead>\n",
       "    <tr style=\"text-align: right;\">\n",
       "      <th></th>\n",
       "      <th>title</th>\n",
       "      <th>open_date</th>\n",
       "      <th>movie_link</th>\n",
       "      <th>poster_link</th>\n",
       "    </tr>\n",
       "  </thead>\n",
       "  <tbody>\n",
       "    <tr>\n",
       "      <th>0</th>\n",
       "      <td>The Thorn</td>\n",
       "      <td>Opened Mar 06, 2023</td>\n",
       "      <td>/m/the_thorn_2023</td>\n",
       "      <td>https://resizing.flixster.com/bFeiUQwfc2drDpWu...</td>\n",
       "    </tr>\n",
       "    <tr>\n",
       "      <th>1</th>\n",
       "      <td>Tu Jhoothi Main Makkaar</td>\n",
       "      <td>Opens Mar 08, 2023</td>\n",
       "      <td>/m/tu_jhoothi_main_makkaar</td>\n",
       "      <td>https://resizing.flixster.com/fQ4D1iiRPiwNdFXG...</td>\n",
       "    </tr>\n",
       "    <tr>\n",
       "      <th>2</th>\n",
       "      <td>Mitran Da Naa Chalda</td>\n",
       "      <td>Opens Mar 08, 2023</td>\n",
       "      <td>/m/mitran_da_naa_chalda</td>\n",
       "      <td>https://resizing.flixster.com/0q8o60vxY3-QnvPy...</td>\n",
       "    </tr>\n",
       "    <tr>\n",
       "      <th>3</th>\n",
       "      <td>Uchiyan Ne Gallan Tere Yaar Diyan</td>\n",
       "      <td>Opens Mar 08, 2023</td>\n",
       "      <td>/m/uchiyan_ne_gallan_tere_yaar_diyan</td>\n",
       "      <td>https://resizing.flixster.com/CHvICSdOHXUD-cfd...</td>\n",
       "    </tr>\n",
       "    <tr>\n",
       "      <th>4</th>\n",
       "      <td>Scream VI</td>\n",
       "      <td>Opens Mar 10, 2023</td>\n",
       "      <td>/m/scream_vi</td>\n",
       "      <td>https://resizing.flixster.com/SNmo199mLTKkD3lO...</td>\n",
       "    </tr>\n",
       "  </tbody>\n",
       "</table>\n",
       "</div>"
      ],
      "text/plain": [
       "                               title            open_date  \\\n",
       "0                          The Thorn  Opened Mar 06, 2023   \n",
       "1            Tu Jhoothi Main Makkaar   Opens Mar 08, 2023   \n",
       "2               Mitran Da Naa Chalda   Opens Mar 08, 2023   \n",
       "3  Uchiyan Ne Gallan Tere Yaar Diyan   Opens Mar 08, 2023   \n",
       "4                          Scream VI   Opens Mar 10, 2023   \n",
       "\n",
       "                             movie_link  \\\n",
       "0                     /m/the_thorn_2023   \n",
       "1            /m/tu_jhoothi_main_makkaar   \n",
       "2               /m/mitran_da_naa_chalda   \n",
       "3  /m/uchiyan_ne_gallan_tere_yaar_diyan   \n",
       "4                          /m/scream_vi   \n",
       "\n",
       "                                         poster_link  \n",
       "0  https://resizing.flixster.com/bFeiUQwfc2drDpWu...  \n",
       "1  https://resizing.flixster.com/fQ4D1iiRPiwNdFXG...  \n",
       "2  https://resizing.flixster.com/0q8o60vxY3-QnvPy...  \n",
       "3  https://resizing.flixster.com/CHvICSdOHXUD-cfd...  \n",
       "4  https://resizing.flixster.com/SNmo199mLTKkD3lO...  "
      ]
     },
     "execution_count": 2,
     "metadata": {},
     "output_type": "execute_result"
    }
   ],
   "source": [
    "import pandas as pd\n",
    "\n",
    "df=pd.read_csv('data/data.csv')\n",
    "df.head()"
   ]
  },
  {
   "cell_type": "code",
   "execution_count": 5,
   "id": "4cdc8681-82bd-4adf-9faa-5ca07f899bda",
   "metadata": {},
   "outputs": [],
   "source": [
    "df.to_sql('movies', con=engine, index=False)"
   ]
  },
  {
   "cell_type": "code",
   "execution_count": 8,
   "id": "11b25040-6ab8-4a3e-9d00-3b497c109157",
   "metadata": {
    "scrolled": true,
    "tags": []
   },
   "outputs": [
    {
     "ename": "OperationalError",
     "evalue": "(sqlite3.OperationalError) no such table: movies\n[SQL: \nSELECT * \nFROM movies\n]\n(Background on this error at: http://sqlalche.me/e/13/e3q8)",
     "output_type": "error",
     "traceback": [
      "\u001b[0;31m---------------------------------------------------------------------------\u001b[0m",
      "\u001b[0;31mOperationalError\u001b[0m                          Traceback (most recent call last)",
      "\u001b[0;32m~/anaconda3/lib/python3.7/site-packages/sqlalchemy/engine/base.py\u001b[0m in \u001b[0;36m_execute_context\u001b[0;34m(self, dialect, constructor, statement, parameters, *args)\u001b[0m\n\u001b[1;32m   1276\u001b[0m                     self.dialect.do_execute(\n\u001b[0;32m-> 1277\u001b[0;31m                         \u001b[0mcursor\u001b[0m\u001b[0;34m,\u001b[0m \u001b[0mstatement\u001b[0m\u001b[0;34m,\u001b[0m \u001b[0mparameters\u001b[0m\u001b[0;34m,\u001b[0m \u001b[0mcontext\u001b[0m\u001b[0;34m\u001b[0m\u001b[0;34m\u001b[0m\u001b[0m\n\u001b[0m\u001b[1;32m   1278\u001b[0m                     )\n",
      "\u001b[0;32m~/anaconda3/lib/python3.7/site-packages/sqlalchemy/engine/default.py\u001b[0m in \u001b[0;36mdo_execute\u001b[0;34m(self, cursor, statement, parameters, context)\u001b[0m\n\u001b[1;32m    592\u001b[0m     \u001b[0;32mdef\u001b[0m \u001b[0mdo_execute\u001b[0m\u001b[0;34m(\u001b[0m\u001b[0mself\u001b[0m\u001b[0;34m,\u001b[0m \u001b[0mcursor\u001b[0m\u001b[0;34m,\u001b[0m \u001b[0mstatement\u001b[0m\u001b[0;34m,\u001b[0m \u001b[0mparameters\u001b[0m\u001b[0;34m,\u001b[0m \u001b[0mcontext\u001b[0m\u001b[0;34m=\u001b[0m\u001b[0;32mNone\u001b[0m\u001b[0;34m)\u001b[0m\u001b[0;34m:\u001b[0m\u001b[0;34m\u001b[0m\u001b[0;34m\u001b[0m\u001b[0m\n\u001b[0;32m--> 593\u001b[0;31m         \u001b[0mcursor\u001b[0m\u001b[0;34m.\u001b[0m\u001b[0mexecute\u001b[0m\u001b[0;34m(\u001b[0m\u001b[0mstatement\u001b[0m\u001b[0;34m,\u001b[0m \u001b[0mparameters\u001b[0m\u001b[0;34m)\u001b[0m\u001b[0;34m\u001b[0m\u001b[0;34m\u001b[0m\u001b[0m\n\u001b[0m\u001b[1;32m    594\u001b[0m \u001b[0;34m\u001b[0m\u001b[0m\n",
      "\u001b[0;31mOperationalError\u001b[0m: no such table: movies",
      "\nThe above exception was the direct cause of the following exception:\n",
      "\u001b[0;31mOperationalError\u001b[0m                          Traceback (most recent call last)",
      "\u001b[0;32m<ipython-input-8-9a2e10fa754c>\u001b[0m in \u001b[0;36m<module>\u001b[0;34m\u001b[0m\n\u001b[1;32m      5\u001b[0m '''\n\u001b[1;32m      6\u001b[0m \u001b[0;34m\u001b[0m\u001b[0m\n\u001b[0;32m----> 7\u001b[0;31m \u001b[0mengine\u001b[0m\u001b[0;34m.\u001b[0m\u001b[0mexecute\u001b[0m\u001b[0;34m(\u001b[0m\u001b[0msql_query\u001b[0m\u001b[0;34m)\u001b[0m\u001b[0;34m.\u001b[0m\u001b[0mfetchall\u001b[0m\u001b[0;34m(\u001b[0m\u001b[0;34m)\u001b[0m\u001b[0;34m\u001b[0m\u001b[0;34m\u001b[0m\u001b[0m\n\u001b[0m",
      "\u001b[0;32m~/anaconda3/lib/python3.7/site-packages/sqlalchemy/engine/base.py\u001b[0m in \u001b[0;36mexecute\u001b[0;34m(self, statement, *multiparams, **params)\u001b[0m\n\u001b[1;32m   2235\u001b[0m \u001b[0;34m\u001b[0m\u001b[0m\n\u001b[1;32m   2236\u001b[0m         \u001b[0mconnection\u001b[0m \u001b[0;34m=\u001b[0m \u001b[0mself\u001b[0m\u001b[0;34m.\u001b[0m\u001b[0m_contextual_connect\u001b[0m\u001b[0;34m(\u001b[0m\u001b[0mclose_with_result\u001b[0m\u001b[0;34m=\u001b[0m\u001b[0;32mTrue\u001b[0m\u001b[0;34m)\u001b[0m\u001b[0;34m\u001b[0m\u001b[0;34m\u001b[0m\u001b[0m\n\u001b[0;32m-> 2237\u001b[0;31m         \u001b[0;32mreturn\u001b[0m \u001b[0mconnection\u001b[0m\u001b[0;34m.\u001b[0m\u001b[0mexecute\u001b[0m\u001b[0;34m(\u001b[0m\u001b[0mstatement\u001b[0m\u001b[0;34m,\u001b[0m \u001b[0;34m*\u001b[0m\u001b[0mmultiparams\u001b[0m\u001b[0;34m,\u001b[0m \u001b[0;34m**\u001b[0m\u001b[0mparams\u001b[0m\u001b[0;34m)\u001b[0m\u001b[0;34m\u001b[0m\u001b[0;34m\u001b[0m\u001b[0m\n\u001b[0m\u001b[1;32m   2238\u001b[0m \u001b[0;34m\u001b[0m\u001b[0m\n\u001b[1;32m   2239\u001b[0m     \u001b[0;32mdef\u001b[0m \u001b[0mscalar\u001b[0m\u001b[0;34m(\u001b[0m\u001b[0mself\u001b[0m\u001b[0;34m,\u001b[0m \u001b[0mstatement\u001b[0m\u001b[0;34m,\u001b[0m \u001b[0;34m*\u001b[0m\u001b[0mmultiparams\u001b[0m\u001b[0;34m,\u001b[0m \u001b[0;34m**\u001b[0m\u001b[0mparams\u001b[0m\u001b[0;34m)\u001b[0m\u001b[0;34m:\u001b[0m\u001b[0;34m\u001b[0m\u001b[0;34m\u001b[0m\u001b[0m\n",
      "\u001b[0;32m~/anaconda3/lib/python3.7/site-packages/sqlalchemy/engine/base.py\u001b[0m in \u001b[0;36mexecute\u001b[0;34m(self, object_, *multiparams, **params)\u001b[0m\n\u001b[1;32m   1001\u001b[0m         \"\"\"\n\u001b[1;32m   1002\u001b[0m         \u001b[0;32mif\u001b[0m \u001b[0misinstance\u001b[0m\u001b[0;34m(\u001b[0m\u001b[0mobject_\u001b[0m\u001b[0;34m,\u001b[0m \u001b[0mutil\u001b[0m\u001b[0;34m.\u001b[0m\u001b[0mstring_types\u001b[0m\u001b[0;34m[\u001b[0m\u001b[0;36m0\u001b[0m\u001b[0;34m]\u001b[0m\u001b[0;34m)\u001b[0m\u001b[0;34m:\u001b[0m\u001b[0;34m\u001b[0m\u001b[0;34m\u001b[0m\u001b[0m\n\u001b[0;32m-> 1003\u001b[0;31m             \u001b[0;32mreturn\u001b[0m \u001b[0mself\u001b[0m\u001b[0;34m.\u001b[0m\u001b[0m_execute_text\u001b[0m\u001b[0;34m(\u001b[0m\u001b[0mobject_\u001b[0m\u001b[0;34m,\u001b[0m \u001b[0mmultiparams\u001b[0m\u001b[0;34m,\u001b[0m \u001b[0mparams\u001b[0m\u001b[0;34m)\u001b[0m\u001b[0;34m\u001b[0m\u001b[0;34m\u001b[0m\u001b[0m\n\u001b[0m\u001b[1;32m   1004\u001b[0m         \u001b[0;32mtry\u001b[0m\u001b[0;34m:\u001b[0m\u001b[0;34m\u001b[0m\u001b[0;34m\u001b[0m\u001b[0m\n\u001b[1;32m   1005\u001b[0m             \u001b[0mmeth\u001b[0m \u001b[0;34m=\u001b[0m \u001b[0mobject_\u001b[0m\u001b[0;34m.\u001b[0m\u001b[0m_execute_on_connection\u001b[0m\u001b[0;34m\u001b[0m\u001b[0;34m\u001b[0m\u001b[0m\n",
      "\u001b[0;32m~/anaconda3/lib/python3.7/site-packages/sqlalchemy/engine/base.py\u001b[0m in \u001b[0;36m_execute_text\u001b[0;34m(self, statement, multiparams, params)\u001b[0m\n\u001b[1;32m   1176\u001b[0m             \u001b[0mparameters\u001b[0m\u001b[0;34m,\u001b[0m\u001b[0;34m\u001b[0m\u001b[0;34m\u001b[0m\u001b[0m\n\u001b[1;32m   1177\u001b[0m             \u001b[0mstatement\u001b[0m\u001b[0;34m,\u001b[0m\u001b[0;34m\u001b[0m\u001b[0;34m\u001b[0m\u001b[0m\n\u001b[0;32m-> 1178\u001b[0;31m             \u001b[0mparameters\u001b[0m\u001b[0;34m,\u001b[0m\u001b[0;34m\u001b[0m\u001b[0;34m\u001b[0m\u001b[0m\n\u001b[0m\u001b[1;32m   1179\u001b[0m         )\n\u001b[1;32m   1180\u001b[0m         \u001b[0;32mif\u001b[0m \u001b[0mself\u001b[0m\u001b[0;34m.\u001b[0m\u001b[0m_has_events\u001b[0m \u001b[0;32mor\u001b[0m \u001b[0mself\u001b[0m\u001b[0;34m.\u001b[0m\u001b[0mengine\u001b[0m\u001b[0;34m.\u001b[0m\u001b[0m_has_events\u001b[0m\u001b[0;34m:\u001b[0m\u001b[0;34m\u001b[0m\u001b[0;34m\u001b[0m\u001b[0m\n",
      "\u001b[0;32m~/anaconda3/lib/python3.7/site-packages/sqlalchemy/engine/base.py\u001b[0m in \u001b[0;36m_execute_context\u001b[0;34m(self, dialect, constructor, statement, parameters, *args)\u001b[0m\n\u001b[1;32m   1315\u001b[0m         \u001b[0;32mexcept\u001b[0m \u001b[0mBaseException\u001b[0m \u001b[0;32mas\u001b[0m \u001b[0me\u001b[0m\u001b[0;34m:\u001b[0m\u001b[0;34m\u001b[0m\u001b[0;34m\u001b[0m\u001b[0m\n\u001b[1;32m   1316\u001b[0m             self._handle_dbapi_exception(\n\u001b[0;32m-> 1317\u001b[0;31m                 \u001b[0me\u001b[0m\u001b[0;34m,\u001b[0m \u001b[0mstatement\u001b[0m\u001b[0;34m,\u001b[0m \u001b[0mparameters\u001b[0m\u001b[0;34m,\u001b[0m \u001b[0mcursor\u001b[0m\u001b[0;34m,\u001b[0m \u001b[0mcontext\u001b[0m\u001b[0;34m\u001b[0m\u001b[0;34m\u001b[0m\u001b[0m\n\u001b[0m\u001b[1;32m   1318\u001b[0m             )\n\u001b[1;32m   1319\u001b[0m \u001b[0;34m\u001b[0m\u001b[0m\n",
      "\u001b[0;32m~/anaconda3/lib/python3.7/site-packages/sqlalchemy/engine/base.py\u001b[0m in \u001b[0;36m_handle_dbapi_exception\u001b[0;34m(self, e, statement, parameters, cursor, context)\u001b[0m\n\u001b[1;32m   1509\u001b[0m             \u001b[0;32melif\u001b[0m \u001b[0mshould_wrap\u001b[0m\u001b[0;34m:\u001b[0m\u001b[0;34m\u001b[0m\u001b[0;34m\u001b[0m\u001b[0m\n\u001b[1;32m   1510\u001b[0m                 util.raise_(\n\u001b[0;32m-> 1511\u001b[0;31m                     \u001b[0msqlalchemy_exception\u001b[0m\u001b[0;34m,\u001b[0m \u001b[0mwith_traceback\u001b[0m\u001b[0;34m=\u001b[0m\u001b[0mexc_info\u001b[0m\u001b[0;34m[\u001b[0m\u001b[0;36m2\u001b[0m\u001b[0;34m]\u001b[0m\u001b[0;34m,\u001b[0m \u001b[0mfrom_\u001b[0m\u001b[0;34m=\u001b[0m\u001b[0me\u001b[0m\u001b[0;34m\u001b[0m\u001b[0;34m\u001b[0m\u001b[0m\n\u001b[0m\u001b[1;32m   1512\u001b[0m                 )\n\u001b[1;32m   1513\u001b[0m             \u001b[0;32melse\u001b[0m\u001b[0;34m:\u001b[0m\u001b[0;34m\u001b[0m\u001b[0;34m\u001b[0m\u001b[0m\n",
      "\u001b[0;32m~/anaconda3/lib/python3.7/site-packages/sqlalchemy/util/compat.py\u001b[0m in \u001b[0;36mraise_\u001b[0;34m(***failed resolving arguments***)\u001b[0m\n\u001b[1;32m    180\u001b[0m \u001b[0;34m\u001b[0m\u001b[0m\n\u001b[1;32m    181\u001b[0m         \u001b[0;32mtry\u001b[0m\u001b[0;34m:\u001b[0m\u001b[0;34m\u001b[0m\u001b[0;34m\u001b[0m\u001b[0m\n\u001b[0;32m--> 182\u001b[0;31m             \u001b[0;32mraise\u001b[0m \u001b[0mexception\u001b[0m\u001b[0;34m\u001b[0m\u001b[0;34m\u001b[0m\u001b[0m\n\u001b[0m\u001b[1;32m    183\u001b[0m         \u001b[0;32mfinally\u001b[0m\u001b[0;34m:\u001b[0m\u001b[0;34m\u001b[0m\u001b[0;34m\u001b[0m\u001b[0m\n\u001b[1;32m    184\u001b[0m             \u001b[0;31m# credit to\u001b[0m\u001b[0;34m\u001b[0m\u001b[0;34m\u001b[0m\u001b[0;34m\u001b[0m\u001b[0m\n",
      "\u001b[0;32m~/anaconda3/lib/python3.7/site-packages/sqlalchemy/engine/base.py\u001b[0m in \u001b[0;36m_execute_context\u001b[0;34m(self, dialect, constructor, statement, parameters, *args)\u001b[0m\n\u001b[1;32m   1275\u001b[0m                 \u001b[0;32mif\u001b[0m \u001b[0;32mnot\u001b[0m \u001b[0mevt_handled\u001b[0m\u001b[0;34m:\u001b[0m\u001b[0;34m\u001b[0m\u001b[0;34m\u001b[0m\u001b[0m\n\u001b[1;32m   1276\u001b[0m                     self.dialect.do_execute(\n\u001b[0;32m-> 1277\u001b[0;31m                         \u001b[0mcursor\u001b[0m\u001b[0;34m,\u001b[0m \u001b[0mstatement\u001b[0m\u001b[0;34m,\u001b[0m \u001b[0mparameters\u001b[0m\u001b[0;34m,\u001b[0m \u001b[0mcontext\u001b[0m\u001b[0;34m\u001b[0m\u001b[0;34m\u001b[0m\u001b[0m\n\u001b[0m\u001b[1;32m   1278\u001b[0m                     )\n\u001b[1;32m   1279\u001b[0m \u001b[0;34m\u001b[0m\u001b[0m\n",
      "\u001b[0;32m~/anaconda3/lib/python3.7/site-packages/sqlalchemy/engine/default.py\u001b[0m in \u001b[0;36mdo_execute\u001b[0;34m(self, cursor, statement, parameters, context)\u001b[0m\n\u001b[1;32m    591\u001b[0m \u001b[0;34m\u001b[0m\u001b[0m\n\u001b[1;32m    592\u001b[0m     \u001b[0;32mdef\u001b[0m \u001b[0mdo_execute\u001b[0m\u001b[0;34m(\u001b[0m\u001b[0mself\u001b[0m\u001b[0;34m,\u001b[0m \u001b[0mcursor\u001b[0m\u001b[0;34m,\u001b[0m \u001b[0mstatement\u001b[0m\u001b[0;34m,\u001b[0m \u001b[0mparameters\u001b[0m\u001b[0;34m,\u001b[0m \u001b[0mcontext\u001b[0m\u001b[0;34m=\u001b[0m\u001b[0;32mNone\u001b[0m\u001b[0;34m)\u001b[0m\u001b[0;34m:\u001b[0m\u001b[0;34m\u001b[0m\u001b[0;34m\u001b[0m\u001b[0m\n\u001b[0;32m--> 593\u001b[0;31m         \u001b[0mcursor\u001b[0m\u001b[0;34m.\u001b[0m\u001b[0mexecute\u001b[0m\u001b[0;34m(\u001b[0m\u001b[0mstatement\u001b[0m\u001b[0;34m,\u001b[0m \u001b[0mparameters\u001b[0m\u001b[0;34m)\u001b[0m\u001b[0;34m\u001b[0m\u001b[0;34m\u001b[0m\u001b[0m\n\u001b[0m\u001b[1;32m    594\u001b[0m \u001b[0;34m\u001b[0m\u001b[0m\n\u001b[1;32m    595\u001b[0m     \u001b[0;32mdef\u001b[0m \u001b[0mdo_execute_no_params\u001b[0m\u001b[0;34m(\u001b[0m\u001b[0mself\u001b[0m\u001b[0;34m,\u001b[0m \u001b[0mcursor\u001b[0m\u001b[0;34m,\u001b[0m \u001b[0mstatement\u001b[0m\u001b[0;34m,\u001b[0m \u001b[0mcontext\u001b[0m\u001b[0;34m=\u001b[0m\u001b[0;32mNone\u001b[0m\u001b[0;34m)\u001b[0m\u001b[0;34m:\u001b[0m\u001b[0;34m\u001b[0m\u001b[0;34m\u001b[0m\u001b[0m\n",
      "\u001b[0;31mOperationalError\u001b[0m: (sqlite3.OperationalError) no such table: movies\n[SQL: \nSELECT * \nFROM movies\n]\n(Background on this error at: http://sqlalche.me/e/13/e3q8)"
     ]
    }
   ],
   "source": [
    "# test\n",
    "sql_query='''\n",
    "SELECT * \n",
    "FROM movies;\n",
    "'''\n",
    "\n",
    "engine.execute(sql_query).fetchall()"
   ]
  },
  {
   "cell_type": "code",
   "execution_count": 67,
   "id": "0b79881e-5eee-4924-983c-aceebe660c9a",
   "metadata": {},
   "outputs": [
    {
     "data": {
      "text/plain": [
       "<sqlalchemy.engine.result.ResultProxy at 0x7fc588477f60>"
      ]
     },
     "execution_count": 67,
     "metadata": {},
     "output_type": "execute_result"
    }
   ],
   "source": [
    "# delete records\n",
    "sql_query='''\n",
    "DROP TABLE movies;\n",
    "'''\n",
    "\n",
    "engine.execute(sql_query)"
   ]
  },
  {
   "cell_type": "markdown",
   "id": "b36c30e3-a40f-4676-a6bb-8e802ea966b5",
   "metadata": {},
   "source": [
    "#### Option 2. Using SQL Queries ####\n",
    "1. Define Table\n",
    "2. Insert Records"
   ]
  },
  {
   "cell_type": "code",
   "execution_count": 29,
   "id": "138d82e2-8158-46a6-b764-6d18a10cbd49",
   "metadata": {},
   "outputs": [
    {
     "data": {
      "text/plain": [
       "<sqlalchemy.engine.result.ResultProxy at 0x7fc587ea6320>"
      ]
     },
     "execution_count": 29,
     "metadata": {},
     "output_type": "execute_result"
    }
   ],
   "source": [
    "# step 1\n",
    "create_query='''\n",
    "CREATE TABLE movies(\n",
    "    title VARCHAR, \n",
    "    open_date VARCHAR, \n",
    "    movie_link VARCHAR, \n",
    "    poster_link VARCHAR\n",
    ");\n",
    "'''\n",
    "\n",
    "engine.execute(create_query)"
   ]
  },
  {
   "cell_type": "code",
   "execution_count": 34,
   "id": "262a1f77-d876-4f03-8d50-1c788ce5a652",
   "metadata": {},
   "outputs": [
    {
     "data": {
      "text/plain": [
       "[]"
      ]
     },
     "execution_count": 34,
     "metadata": {},
     "output_type": "execute_result"
    }
   ],
   "source": [
    "# check if table was created\n",
    "engine.table_names()"
   ]
  },
  {
   "cell_type": "code",
   "execution_count": 30,
   "id": "9824c7f1-b54a-4989-81e8-65d0f1b87ff2",
   "metadata": {},
   "outputs": [],
   "source": [
    "# step 2\n",
    "insert_query='''\n",
    "INSERT INTO movies\n",
    "VALUES \n",
    "'''"
   ]
  },
  {
   "cell_type": "code",
   "execution_count": 31,
   "id": "08516c2c-d259-4cca-b7a4-314a7d6548be",
   "metadata": {
    "scrolled": true,
    "tags": []
   },
   "outputs": [
    {
     "data": {
      "text/plain": [
       "<sqlalchemy.engine.result.ResultProxy at 0x7fc587ea8358>"
      ]
     },
     "execution_count": 31,
     "metadata": {},
     "output_type": "execute_result"
    }
   ],
   "source": [
    "with open('data/data.csv') as f: \n",
    "    csv_reader=csv.reader(f)\n",
    "    header=next(csv_reader)\n",
    "    for row in csv_reader: \n",
    "        insert_query+=str(tuple(row)) + ', '\n",
    "        \n",
    "insert_query=insert_query[:-2]+'; '\n",
    "\n",
    "engine.execute(insert_query)"
   ]
  },
  {
   "cell_type": "code",
   "execution_count": 32,
   "id": "ba48e884-b18e-4904-902f-b7e18c2cd0ca",
   "metadata": {
    "scrolled": true,
    "tags": []
   },
   "outputs": [
    {
     "data": {
      "text/plain": [
       "[('The Thorn', 'Opened Mar 06, 2023', '/m/the_thorn_2023', 'https://resizing.flixster.com/bFeiUQwfc2drDpWul3gV3g9PAXk=/180x258/v2/https://resizing.flixster.com/m9SUebSjlMIrn5G9VEGmx6mKL3c=/ems.cHJkLWVtcy1hc3NldHMvbW92aWVzL2ZmNmVhOThmLWZiN2EtNGMzOS1hODc5LThjNTI5YjU4OTc4Yy5qcGc='),\n",
       " ('Tu Jhoothi Main Makkaar', 'Opens Mar 08, 2023', '/m/tu_jhoothi_main_makkaar', 'https://resizing.flixster.com/fQ4D1iiRPiwNdFXGE6za19k-bhA=/180x258/v2/https://resizing.flixster.com/vqEGJotvD5G3tMkJUb8eBWKC_vk=/ems.cHJkLWVtcy1hc3NldHMvbW92aWVzL2UwZGFhNDY0LWJmZDUtNDRhZC04YzQ2LWEwNmIzN2MzZmQ3Zi5qcGc='),\n",
       " ('Mitran Da Naa Chalda', 'Opens Mar 08, 2023', '/m/mitran_da_naa_chalda', 'https://resizing.flixster.com/0q8o60vxY3-QnvPyzmu-p2e1-2U=/180x258/v2/https://resizing.flixster.com/zWOjQYmc6n88sUHCh8DFiIpcA4I=/ems.cHJkLWVtcy1hc3NldHMvbW92aWVzLzBlNDEwNTUwLTc5MjktNDJiMi1iNjI2LTY4Y2VjZDI3MWRlOS5qcGc='),\n",
       " ('Uchiyan Ne Gallan Tere Yaar Diyan', 'Opens Mar 08, 2023', '/m/uchiyan_ne_gallan_tere_yaar_diyan', 'https://resizing.flixster.com/CHvICSdOHXUD-cfdB2FNd1OOZ-I=/180x258/v2/https://resizing.flixster.com/etRtkq6TG76w42bI72_OVNXklpE=/ems.cHJkLWVtcy1hc3NldHMvbW92aWVzLzJmMDA5NDVlLTU0MTUtNDIxMi1hZjhiLTAxMDkwYjcyZjdjMC5qcGc='),\n",
       " ('Scream VI', 'Opens Mar 10, 2023', '/m/scream_vi', 'https://resizing.flixster.com/SNmo199mLTKkD3lO-b21nrSz-k4=/180x258/v2/https://resizing.flixster.com/dbokT9ziX9XrMs2Ims1OnyLJYmI=/ems.cHJkLWVtcy1hc3NldHMvbW92aWVzLzk3ZmU4OTRlLWM5YTAtNDU3Ni04ODNiLWUxZDE1ZmY1MWQ3Yi5qcGc='),\n",
       " ('65', 'Opens Mar 10, 2023', '/m/65', 'https://resizing.flixster.com/ENPGEvODQzxrtxvQdpIUdcxX0M4=/180x258/v2/https://resizing.flixster.com/B3PKF59iChbIK81k7aF0tgkY8_8=/ems.cHJkLWVtcy1hc3NldHMvbW92aWVzL2E4Yzc2ZmE2LWM5MGEtNDdkNS05MWY1LWY2ZDU0N2IwMjdlZi5qcGc='),\n",
       " ('Champions', 'Opens Mar 10, 2023', '/m/champions_2022', 'https://resizing.flixster.com/YkaS4L5znXdFlOS6apTW_m_fgeE=/180x258/v2/https://resizing.flixster.com/1VOc5ZNpTlYVgQcAhJJeLhYnlrA=/ems.cHJkLWVtcy1hc3NldHMvbW92aWVzL2FmZTVlZWVmLWU4MzktNGQ5Ny1hZGNjLWQ3ODc5OTE0NDc2NC5qcGc='),\n",
       " ('Unicorn Wars', 'Opens Mar 10, 2023', '/m/unicorn_wars', 'https://resizing.flixster.com/ZL2RFxTs1wIkq8uqfCUPA3yeS7k=/180x258/v2/https://resizing.flixster.com/7JYeLYMpeNKtD_-kthcYnvgLdm4=/ems.cHJkLWVtcy1hc3NldHMvbW92aWVzLzkwOWI0NWUzLTczOWMtNDhiNy1hZjhlLTc3NmUzY2ExZGIxMi5qcGc='),\n",
       " ('Martyr or Murderer', 'Opens Mar 10, 2023', '/m/martyr_or_murderer', 'https://resizing.flixster.com/BU33q55JGLV0yWlNkm6rdJtAAkQ=/180x258/v2/https://resizing.flixster.com/eqYl_IoL6AVsvWAZngWRlacO2ek=/ems.cHJkLWVtcy1hc3NldHMvbW92aWVzLzhhMjFkY2I5LTc3YTktNDUzYi04MzlmLWY2M2YxZTJjMzUzOS5qcGc='),\n",
       " ('99 Moons', 'Opens Mar 10, 2023', '/m/99_moons', 'https://resizing.flixster.com/vSlwBFkHJZoDNTZEFRGJujMGEvE=/180x258/v2/https://resizing.flixster.com/YlDgdtRWfoIg6FZnEBjjnLiv5YA=/ems.cHJkLWVtcy1hc3NldHMvbW92aWVzLzhhZjIyYzU5LWU5ZjMtNGE0OS1iNWNiLTMyYTU1NzA1NjlhOS5qcGc='),\n",
       " ('I Got a Monster', 'Opens Mar 10, 2023', '/m/i_got_a_monster', 'https://resizing.flixster.com/GrLB5hPCp-JfEmo2bHuufr0Hv78=/180x258/v2/https://resizing.flixster.com/VZ3rijUyXxvxuk7BU3NTPpRGsTk=/ems.cHJkLWVtcy1hc3NldHMvbW92aWVzL2QwOTMzOWNkLTI1MDgtNDFkYi1hNTcwLWFkNDZmZDQ2NWUxMS5qcGc='),\n",
       " ('The Magic Flute', 'Opens Mar 10, 2023', '/m/the_magic_flute_2022', 'https://resizing.flixster.com/aQQsSkTfqw4-x9jE_TaVzDPzuyI=/180x258/v2/https://resizing.flixster.com/8eTDpgtcrFxnNXNT6ozT5GEmH5U=/ems.cHJkLWVtcy1hc3NldHMvbW92aWVzLzY1ZDVmZjE2LTU0OGMtNDVhYS1hNDA5LTliOGMzZmRhOWUxNC5wbmc='),\n",
       " ('Punch', 'Opens Mar 10, 2023', '/m/punch_2023', 'https://resizing.flixster.com/UVyWPGxWeymejsSu5VUvF6e1_S4=/180x258/v2/https://resizing.flixster.com/4rmRZOQQxxcuCO0noNFKIOu4tNc=/ems.cHJkLWVtcy1hc3NldHMvbW92aWVzLzM2YmQxOTllLWU2MWUtNDRiNS05M2Q2LWY3ZjJiZjAwYWFmNi5qcGc='),\n",
       " ('Righteous Thieves', 'Opens Mar 10, 2023', '/m/righteous_thieves', 'https://resizing.flixster.com/SAoAMXA0utzgUf4ExtxFkUYJKeA=/180x258/v2/https://resizing.flixster.com/WiTKmAJ4nrcMLhQ9i1HVdok0Lag=/ems.cHJkLWVtcy1hc3NldHMvbW92aWVzLzc3OTZiN2NmLTQ3YzctNGJkMC1iMzA4LWVjMzE0MmM2YzQzYi5qcGc='),\n",
       " ('The Siege', 'Opens Mar 10, 2023', '/m/the_siege_2022', 'https://resizing.flixster.com/Rn4WysuZRREr1GxTlkGEQFvZibQ=/180x258/v2/https://flxt.tmsimg.com/assets/p23931018_v_v13_aa.jpg'),\n",
       " ('Confession', 'Opens Mar 10, 2023', '/m/confession_2022_3', 'https://resizing.flixster.com/RM877mQZPR-8YkEDJDdv438zgmU=/180x258/v2/https://resizing.flixster.com/dDjWOUb6egrNCiSFes5YiwkZcuY=/ems.cHJkLWVtcy1hc3NldHMvbW92aWVzL2I4ZWI0OTU1LWEzN2QtNGJmMy04M2QyLTAzYTk1YmY3MTQxZS5qcGc='),\n",
       " ('Future TX', 'Opens Mar 10, 2023', '/m/future_tx', 'https://resizing.flixster.com/Xn3qmUxSgpvh4fymWtzBbiUp-U0=/180x258/v2/https://flxt.tmsimg.com/assets/p23806476_p_v10_aa.jpg'),\n",
       " ('Shonibar Bikel (Saturday Afternoon)', 'Opens Mar 10, 2023', '/m/shonibar_bikel_saturday_afternoon', 'https://resizing.flixster.com/RMbLwDCuDndJdpZxmLsMd2RHC04=/180x258/v2/https://resizing.flixster.com/cSku6xPXac-1MTGHd9VlBRnWBTQ=/ems.cHJkLWVtcy1hc3NldHMvbW92aWVzLzI3MzhjZjVhLWM4MTgtNGNhOS05YzI4LTQ3YTUzZjI5ZjFiNS5qcGc='),\n",
       " ('Infinite Sea', 'Opens Mar 10, 2023', '/m/infinite_sea', 'https://resizing.flixster.com/JKcPUn3e5skJHnXDmul2yupjE8c=/180x258/v2/https://resizing.flixster.com/8a40EgY7GeFskV6CbsJQoXexPuM=/ems.cHJkLWVtcy1hc3NldHMvbW92aWVzL2QxYjQ5ZmY2LTVkYTgtNDk2NS05YzM5LTc0ZDM0ZGE3NTI2Ni5qcGc='),\n",
       " ('Rewind & Play', 'Opens Mar 10, 2023', '/m/rewind_and_play', 'https://resizing.flixster.com/9jkhhXpp0F0ZenA5FoBzCpwW6SA=/180x258/v2/https://flxt.tmsimg.com/assets/p22819145_p_v10_aa.jpg'),\n",
       " ('Ant-Man and The Wasp: Quantumania', 'Opened Feb 17, 2023', '/m/ant_man_and_the_wasp_quantumania', 'https://resizing.flixster.com/fVrIldlpUM25DuWLZXNn2jwZSd4=/180x258/v2/https://resizing.flixster.com/_0Mhf0W_vdhwlaqOaUDX6JiReKA=/ems.cHJkLWVtcy1hc3NldHMvbW92aWVzLzE0OGY2MTIxLTE1MDEtNDI5YS1hYzVlLWYyMzExYjBmZTlhMC5qcGc='),\n",
       " ('Cocaine Bear', 'Opened Feb 24, 2023', '/m/cocaine_bear', 'https://resizing.flixster.com/ZWfK4g9Hs3ap7o6ac5nxwS-gtPU=/180x258/v2/https://resizing.flixster.com/HyxB3a8sdK-y6fUI4akiNAT39KQ=/ems.cHJkLWVtcy1hc3NldHMvbW92aWVzL2I1YjM3YTg1LTg5YTgtNGUzNC1iMjFmLTJkMmIwNmQ1ZTk0YS5qcGc='),\n",
       " ('Jesus Revolution', 'Opened Feb 24, 2023', '/m/jesus_revolution', 'https://resizing.flixster.com/dtd4eV2Pec2cdFlx5sl8mRE_K2s=/180x258/v2/https://resizing.flixster.com/FLuS1mtbLsmLtJCuxgvnN8PZ1Bg=/ems.cHJkLWVtcy1hc3NldHMvbW92aWVzLzU5ODQ1Y2M1LWY1MWEtNDIzOS04NDRjLTcwMTlkY2Q5MGE3NS5qcGc='),\n",
       " ('Avatar: The Way of Water', 'Opened Dec 16, 2022', '/m/avatar_the_way_of_water', 'https://resizing.flixster.com/vBbpscWVOg8oEI6mhx6l87Eegio=/180x258/v2/https://resizing.flixster.com/gWWM2Ov0VLAuazwELZCVc9grUQI=/ems.cHJkLWVtcy1hc3NldHMvbW92aWVzLzgyMGM0ZDJiLWNmYjAtNGI3NS1hYTgzLTQ5YmU2ZjQwZWE0ZC5qcGc='),\n",
       " ('Puss in Boots: The Last Wish', 'Opened Dec 21, 2022', '/m/puss_in_boots_the_last_wish', 'https://resizing.flixster.com/7TqHTXZS36wi0cPwfdLO3kQMXH0=/180x258/v2/https://resizing.flixster.com/vtIcjOYiM-QBXQyXhTFFgQoRkDw=/ems.cHJkLWVtcy1hc3NldHMvbW92aWVzL2JmNjM3ZTc2LTk5ZmMtNGJhNy04MDAzLWI3M2IxNmExNDNkYi5qcGc='),\n",
       " (\"Magic Mike's Last Dance\", 'Opened Feb 10, 2023', '/m/magic_mikes_last_dance', 'https://resizing.flixster.com/1rDwxiAlOeVPkIIwdiMgGYg7STQ=/180x258/v2/https://resizing.flixster.com/dSyi0qq5pZSCRC1VH_oo02R4QRE=/ems.cHJkLWVtcy1hc3NldHMvbW92aWVzLzRhMWZhYmFhLWFmODgtNDg1MC1hMTk5LWMwOTcyMDhjY2Y1YS5qcGc='),\n",
       " ('80 for Brady', 'Opened Feb 03, 2023', '/m/80_for_brady', 'https://resizing.flixster.com/87a9oPjNLBQT2jxitBaOBzk8L7Q=/180x258/v2/https://resizing.flixster.com/D7qwW_u23xMtpwTt78eNVmVLFuI=/ems.cHJkLWVtcy1hc3NldHMvbW92aWVzL2I4Mzk4ZTkzLTYzZjktNGI0My05OTYwLWIzZjIxMDkwMTQwNC5qcGc='),\n",
       " ('Knock at the Cabin', 'Opened Feb 03, 2023', '/m/knock_at_the_cabin', 'https://resizing.flixster.com/Lns0SHw6z96u5-VGU9eRaQoitJA=/180x258/v2/https://resizing.flixster.com/5dJGA-d38uNrcR2nDq1UmVBRuHc=/ems.cHJkLWVtcy1hc3NldHMvbW92aWVzLzA4NDdmZDU3LWMxNTQtNDczOC04M2VkLTQzNzQ5NGVkODExZi5qcGc='),\n",
       " ('Missing', 'Opened Jan 20, 2023', '/m/missing_2023', 'https://resizing.flixster.com/_oRGQEyYwctFP9JQCZOu1lg52nU=/180x258/v2/https://resizing.flixster.com/RTX_Ec72Imig92mBwROA1C-YFTE=/ems.cHJkLWVtcy1hc3NldHMvbW92aWVzLzExOGNjY2MyLTg0MTctNDBmMS1hYTFhLWNmZWU5ZTVjNDg5NS5qcGc='),\n",
       " ('A Man Called Otto', 'Opened Jan 13, 2023', '/m/a_man_called_otto', 'https://resizing.flixster.com/cl-UXaleuOg6S4cfDn7BkZvhRlg=/180x258/v2/https://resizing.flixster.com/l3hMOt6cWOpnE-s2f9ryvvFRwdM=/ems.cHJkLWVtcy1hc3NldHMvbW92aWVzLzQxYjJlNGIwLWE1YWMtNDU0NC05NDc3LTVkMTUwYWMyZGIyNy5qcGc='),\n",
       " ('Winnie-the-Pooh: Blood and Honey', 'Opened Feb 15, 2023', '/m/winnie_the_pooh_blood_and_honey', 'https://resizing.flixster.com/3RA9AHYT0pC7wr-CDUFyEYxnzRU=/180x258/v2/https://resizing.flixster.com/x38YTTwZhjxXX8A24ZNCekdc2bc=/ems.cHJkLWVtcy1hc3NldHMvbW92aWVzLzBiMTJlNDMwLTVjYmQtNDg4NS1hZGM3LTQ2MTMzNjZkM2VjMy5qcGc='),\n",
       " ('Titanic', 'Opened Dec 19, 1997', '/m/titanic', 'https://resizing.flixster.com/ilblrNkTrqYtfsXbLfXkh400-cw=/180x258/v2/https://resizing.flixster.com/j1q6PHK0ZtbdABMQcflU-wH5-eE=/ems.cHJkLWVtcy1hc3NldHMvbW92aWVzL2Y1NGZmNWMyLTczMGUtNDViMS04NzdmLTRiODZiMDM0YWMwOS5qcGc='),\n",
       " ('M3GAN', 'Opened Jan 06, 2023', '/m/m3gan', 'https://resizing.flixster.com/VS-VVckP1gsqGPL8olacKHSryFA=/180x258/v2/https://resizing.flixster.com/rPJASTXFjLpmiVTi3D6RGcq-skM=/ems.cHJkLWVtcy1hc3NldHMvbW92aWVzLzhjYjA0ODBiLTNlNmUtNDlhOS05ZWRlLThlOGQ2MmEyZjlmYS5qcGc='),\n",
       " ('Emily', 'Opened Feb 17, 2023', '/m/emily_2022', 'https://resizing.flixster.com/UwiNobPBvTNsIj14J4DCW1SDoGU=/180x258/v2/https://resizing.flixster.com/SKYj-nTZxPCuA0S2CYE-SrlHhhw=/ems.cHJkLWVtcy1hc3NldHMvbW92aWVzL2Y5MjdmYjM4LWM0MjItNDI1OC04ODY0LTU1NDc4NmRlMzdhNi5qcGc='),\n",
       " ('Pathaan', 'Opened Jan 25, 2023', '/m/pathaan', 'https://resizing.flixster.com/b3icNVjNdQqG19ASSfhFO2nnUGw=/180x258/v2/https://resizing.flixster.com/QnjlMcBlxq64Y5rT1IiYcdPQdhQ=/ems.cHJkLWVtcy1hc3NldHMvbW92aWVzLzI2OWNlNjU4LTg2NDMtNGI5Zi05YjU5LTk5MjJkOWZjMWUwZi5qcGc='),\n",
       " ('Selfiee', 'Opened Feb 24, 2023', '/m/selfiee', 'https://resizing.flixster.com/d2IU3pTY-wI9-8qvdE9t8vr2t_I=/180x258/v2/https://resizing.flixster.com/K7dD36NdrpCgfz-AI8WILpafHxQ=/ems.cHJkLWVtcy1hc3NldHMvbW92aWVzL2Y4MWNhNmRkLTU2NGEtNGUwOS1hZTA4LWRlOTFiMmZkOWM5ZC5qcGc='),\n",
       " ('Violent Night', 'Opened Dec 02, 2022', '/m/violent_night', 'https://resizing.flixster.com/dQ-UpvAcf0wjFf86LzWf2jhH2VY=/180x258/v2/https://resizing.flixster.com/nifeYuz3wPgP583Gtef3bTSwfI0=/ems.cHJkLWVtcy1hc3NldHMvbW92aWVzLzRjMjhmYTMwLWViM2EtNDZjYy1iMWRmLTAxNmQ3MzZiMTUyNS5qcGc='),\n",
       " ('Women Talking', 'Opened Jan 20, 2023', '/m/women_talking', 'https://resizing.flixster.com/gCVwVdEHVe2Xt3QbDbApgmfEkQs=/180x258/v2/https://resizing.flixster.com/YK7EnYmnlr7njPaqZ_x-mdAI86A=/ems.cHJkLWVtcy1hc3NldHMvbW92aWVzL2FmZDQxZTlhLTYyN2ItNDc5ZS04NjEzLWU2NmY3Y2JkNTkwMi5qcGc='),\n",
       " ('Hidden Blade', 'Opened Feb 17, 2023', '/m/hidden_blade_2023', 'https://resizing.flixster.com/KVHkPdQ5IkAtSGKG8H1fJB2rKu4=/180x258/v2/https://resizing.flixster.com/t3XE1dXtCSQKNvr-ng9UAZUKWYw=/ems.cHJkLWVtcy1hc3NldHMvbW92aWVzLzM1MzEwNmZiLWQwMTUtNDA2ZS04ZTdhLWY5MTA0NTg1YmM2Ny5qcGc='),\n",
       " ('Plane', 'Opened Jan 13, 2023', '/m/plane', 'https://resizing.flixster.com/ciLKBI0yEQsSO3yDx7tVT-pMvLE=/180x258/v2/https://resizing.flixster.com/96gGzEOuV_fOYF8NKCANgRXH3SI=/ems.cHJkLWVtcy1hc3NldHMvbW92aWVzLzUzN2ViMzg3LWNjNGUtNDFjZC1hMzZiLTgyYWEwOWIzZTdlZi5qcGc='),\n",
       " ('Bunker', 'Opened Feb 24, 2023', '/m/bunker_2022', 'https://resizing.flixster.com/oSidwOXh4_1nIuHQfI3q7u-vxMM=/180x258/v2/https://resizing.flixster.com/fWrEUS4VwHd4A5p5srlykuB5F5A=/ems.cHJkLWVtcy1hc3NldHMvbW92aWVzLzc0N2Q5NWYzLTAwZWQtNGU0NS04MDc0LTFhMTBlYjk3NTk5OS5qcGc='),\n",
       " ('The Quiet Girl', 'Opened Dec 16, 2022', '/m/the_quiet_girl', 'https://resizing.flixster.com/sjXDUMA9vwKNpbiRzan0WRNnxF8=/180x258/v2/https://resizing.flixster.com/_6p5XUDwq1MBH_OZtlIdfO60RXM=/ems.cHJkLWVtcy1hc3NldHMvbW92aWVzL2FkODdlMTZmLTMzZjYtNDg2NC1iN2U1LTgyYTkwNGEwZDJmMC5qcGc='),\n",
       " ('Black Panther: Wakanda Forever', 'Opened Nov 11, 2022', '/m/black_panther_wakanda_forever', 'https://resizing.flixster.com/q-cbmseXvttzhL3h69gYmh55BQE=/180x258/v2/https://resizing.flixster.com/QJkeIM6LIvwmRGiLKrNBcpZIk8M=/ems.cHJkLWVtcy1hc3NldHMvbW92aWVzLzAwYzExZjlmLWJlODQtNDY4Mi1iNDhkLWU2YWNmMGIyMDgwMi5qcGc='),\n",
       " ('Of an Age', 'Opened Feb 17, 2023', '/m/of_an_age', 'https://resizing.flixster.com/nOZVsau7Dw105XoBcBt-sy1hc74=/180x258/v2/https://resizing.flixster.com/eLXac3RZa_zSEY_tLxgNrXPaVZM=/ems.cHJkLWVtcy1hc3NldHMvbW92aWVzLzRjNDNkNjIxLTliYmMtNGZkNy1iNTVmLWRkZjQxY2Y0MmQ4YS5qcGc='),\n",
       " ('Return to Seoul', 'Opened Dec 02, 2022', '/m/return_to_seoul', 'https://resizing.flixster.com/HxtNKABhUB2Ei19DujBglv4oZeM=/180x258/v2/https://resizing.flixster.com/jZNL2qncn2kr9JQMA1-L76K98cw=/ems.cHJkLWVtcy1hc3NldHMvbW92aWVzL2Y2ODA0MGRhLWZhNWItNDIwYy05MzY3LTczZjVmMDcyMzM0Ni5qcGc='),\n",
       " ('The Wandering Earth II', 'Opened Jan 22, 2023', '/m/the_wandering_earth_ii', 'https://resizing.flixster.com/zlD4un1lyZKfobQtJx_fIUzXa2I=/180x258/v2/https://resizing.flixster.com/4Amw5DarTewVaEaEG_JfHixVsWc=/ems.cHJkLWVtcy1hc3NldHMvbW92aWVzLzdhYzU3MzNkLWM3ZGEtNGI2Ny05YWJhLWZjMTI1NGZjZTljMC5qcGc='),\n",
       " ('The Fabelmans', 'Opened Nov 23, 2022', '/m/the_fabelmans', 'https://resizing.flixster.com/c0UaF5wT35zDl_bCLSI6nAcvSus=/180x258/v2/https://resizing.flixster.com/sHWlKXB2LojbyFEGXuLICWYopdI=/ems.cHJkLWVtcy1hc3NldHMvbW92aWVzLzA3Y2Y3MTk3LWZkMWUtNGNjNS04YzY0LWI0YjNlNDNmYTRhNC5qcGc='),\n",
       " ('House Party', 'Opened Jan 13, 2023', '/m/house_party_2023', 'https://resizing.flixster.com/03a2ipAR466CAIBF0dZeZVAJfyY=/180x258/v2/https://resizing.flixster.com/0TL7sj2wtlYft1rd39GkrOvtNRk=/ems.cHJkLWVtcy1hc3NldHMvbW92aWVzL2Y2NWNhYWYwLWFhNmQtNGRmOS05YTY3LWE0NTA0MGU1ZDRmOC5qcGc='),\n",
       " ('My Happy Ending', 'Opened Feb 24, 2023', '/m/my_happy_ending', 'https://resizing.flixster.com/mMJWHTQ1sULXyqMZ0-vhIhhOjVw=/180x258/v2/https://resizing.flixster.com/dpWL30t32cmMDwlxKt8UrxLyRoE=/ems.cHJkLWVtcy1hc3NldHMvbW92aWVzL2QyZDJiZTgwLTZmMWItNGM3Mi05OTRmLWRhMzZmYWE3ZjAyMi5qcGc='),\n",
       " ('One Fine Morning', 'Opened Dec 09, 2022', '/m/one_fine_morning_2022', 'https://resizing.flixster.com/g0O5rqC47PyDYxUijifyWyNt9Xo=/180x258/v2/https://resizing.flixster.com/uNtJQj5P_ORimbS6jRGXy2VSGZg=/ems.cHJkLWVtcy1hc3NldHMvbW92aWVzL2JlNGYzOWI0LWQ3ZjctNGRlMC1hNzI4LTI5NDk0Y2MyNzRiOS5qcGc='),\n",
       " ('Tár', 'Opened Oct 28, 2022', '/m/tar_2022', 'https://resizing.flixster.com/sye-r3JubXdjZ0hMghg9X1pmUJU=/180x258/v2/https://resizing.flixster.com/wFUHH4yTM6tmK4R-0f6pCrCPpB0=/ems.cHJkLWVtcy1hc3NldHMvbW92aWVzLzBlZGZjZWM1LTVkNmMtNDYzZC1iNjc0LTYwNDY0YTkzYTExYy5qcGc='),\n",
       " ('The Banshees of Inisherin', 'Opened Nov 04, 2022', '/m/the_banshees_of_inisherin', 'https://resizing.flixster.com/g75SmYnr5OmzMH2poVBHMtkhQuc=/180x258/v2/https://resizing.flixster.com/SqYohHz5ela5G1qTZ8aKYunK2Oo=/ems.cHJkLWVtcy1hc3NldHMvbW92aWVzLzc4ZjI3ZDBiLTkwMDktNDVkZC1hZmI5LTJiNDdjNWRmZDVjOC5qcGc='),\n",
       " ('Linoleum', 'Opened Feb 24, 2023', '/m/linoleum_2022', 'https://resizing.flixster.com/JLCsVZl_vbKJf6uaI1SyIRaCe4Y=/180x258/v2/https://resizing.flixster.com/ZAaN9kYuYV5A0DghHdHftT6FkOQ=/ems.cHJkLWVtcy1hc3NldHMvbW92aWVzLzg5NDhiNGNkLTZiMDgtNGY2NC04ODVhLTk3N2U1ZTAyNmZhMy5qcGc='),\n",
       " ('Triangle of Sadness', 'Opened Oct 07, 2022', '/m/triangle_of_sadness', 'https://resizing.flixster.com/pdvdyM0Mg74gKFMcr9KN-36ORvs=/180x258/v2/https://resizing.flixster.com/z6ABTqY9Z_hs2mKAokadKfuTHyg=/ems.cHJkLWVtcy1hc3NldHMvbW92aWVzLzI5NTZjNDYwLWFkNDgtNDhlZC05OWE5LWZlYzRhMjgwZDJjMC5qcGc='),\n",
       " ('Turn Every Page: The Adventures of Robert Caro and Robert Gottlieb', 'Opened Dec 30, 2022', '/m/turn_every_page_the_adventures_of_robert_caro_and_robert_gottlieb', 'https://resizing.flixster.com/sGy1nW4YkfNNOvj9clQlE2pNixI=/180x258/v2/https://resizing.flixster.com/04X6srMqsfY2Gj0XGMvYFwkB0fk=/ems.cHJkLWVtcy1hc3NldHMvbW92aWVzLzc1ZGE4NTJhLTY4N2QtNGI1MC1hMTcwLTk3ZDFkZmVjMWViYS5qcGc='),\n",
       " ('Chocolat', 'Opened Jan 05, 2001', '/m/chocolat', 'https://resizing.flixster.com/pWn_DrHB3tvjMHxKEiAnKdsZ5Lk=/180x258/v2/https://flxt.tmsimg.com/assets/p26689_p_v8_aa.jpg'),\n",
       " ('Consecration', 'Opened Feb 10, 2023', '/m/consecration', 'https://resizing.flixster.com/Q-RJt2HFPuVkDU3WQzj7S6bFZXI=/180x258/v2/https://resizing.flixster.com/4jF5-LlLJbewsr_Vh4JbpBIfFBk=/ems.cHJkLWVtcy1hc3NldHMvbW92aWVzLzhkYWI2NTk2LTQyMzUtNDdkNi04N2U5LTcyMjRiOGUyNThiMy5qcGc='),\n",
       " (\"God's Time\", 'Opened Feb 24, 2023', '/m/gods_time', 'https://resizing.flixster.com/I2d5O0_5m8Efp8BQrpJ7AiWFKiQ=/180x258/v2/https://resizing.flixster.com/WPdnlkiqSy6Eeh6mUxYEmF4CyXU=/ems.cHJkLWVtcy1hc3NldHMvbW92aWVzLzA3MjJlMGRiLTk1NzEtNDNjNC1hN2QzLTg3MWQyYThkM2NhMi5qcGc='),\n",
       " ('All the Beauty and the Bloodshed', 'Opened Nov 23, 2022', '/m/all_the_beauty_and_the_bloodshed', 'https://resizing.flixster.com/MAkhvSl3g-3IMmHuhQT4NZUY6z0=/180x258/v2/https://resizing.flixster.com/lygXoCf_M0WByVqFLAdZ96SdKEk=/ems.cHJkLWVtcy1hc3NldHMvbW92aWVzLzVjOTY1MmM1LTNjZTgtNDUzYS1hMWQyLWExYzEzMDhiZTNkZi5qcGc='),\n",
       " ('No Bears', 'Opened Dec 23, 2022', '/m/no_bears', 'https://resizing.flixster.com/-81GLTPBLJDjPA6hWNLmRs3pC-Y=/180x258/v2/https://resizing.flixster.com/oUBxvoxvFBE_kqBF26yH2Yh3s6w=/ems.cHJkLWVtcy1hc3NldHMvbW92aWVzLzQ0YTJlZmQxLTg5MDktNDlhNi04MDlhLWE5NmU1NmFiN2U4Ni5qcGc='),\n",
       " ('The Sorrow and the Pity', 'Opened Mar 25, 1972', '/m/the_sorrow_and_the_pity_1970', 'https://resizing.flixster.com/PBQepveXo24vQzxkH8yt5HcTocM=/180x258/v2/https://resizing.flixster.com/yc4-DEkGp4orxzdkWBYhCgGK-4k=/ems.cHJkLWVtcy1hc3NldHMvbW92aWVzLzc3NmNhM2NiLTM5ODYtNDdmOS05MjJiLWYyZjdjOGU2YWE2Ni5qcGc='),\n",
       " ('Godland', 'Opened Feb 03, 2023', '/m/godland', 'https://resizing.flixster.com/Fpy9gJKT-cmTYr1bkDQ1wjrNd6I=/180x258/v2/https://resizing.flixster.com/ResySw83OOtDWLoYfMzYMpDygxg=/ems.cHJkLWVtcy1hc3NldHMvbW92aWVzLzQyZGRjM2FhLTU0NjktNGE2Yi05MzhjLWQ5M2MxM2UyYTE5MC5qcGc='),\n",
       " ('Skinamarink', 'Opened Jan 13, 2023', '/m/skinamarink', 'https://resizing.flixster.com/iHmimy6eQKx_2EjOvIFAX2DfcSs=/180x258/v2/https://flxt.tmsimg.com/assets/p23640184_p_v8_ab.jpg'),\n",
       " ('Cinema Sabaya', 'Opened Feb 10, 2023', '/m/cinema_sabaya', 'https://resizing.flixster.com/a-DUJi7bfKfZEKisVKcJhAEwLbE=/180x258/v2/https://resizing.flixster.com/z4xZi8mh5SmaZz91-z20D6kgJ3A=/ems.cHJkLWVtcy1hc3NldHMvbW92aWVzLzQ2ODUwNzA0LTIxYjctNGQzMi1hOTYwLWI2NGEwOGIxNDljZi5qcGc='),\n",
       " ('Full Time', 'Opened Feb 03, 2023', '/m/full_time', 'https://resizing.flixster.com/G4XMcPdBvEyLNi0FSU5uBm-apfU=/180x258/v2/https://resizing.flixster.com/h_aaDNAfYMm_6CkhI4fjEcmzZDU=/ems.cHJkLWVtcy1hc3NldHMvbW92aWVzL2M4OTFmYzVkLWZlZDktNDY0Ni04MjBkLTA0MTFiMGI0NmQ1ZS5qcGc='),\n",
       " ('Utama', 'Opened Nov 04, 2022', '/m/utama', 'https://resizing.flixster.com/wcqPTecjXneQ2NdfCfnMbkjiXB0=/180x258/v2/https://resizing.flixster.com/pEhRPQOLczjpkKTPBndW5JVC1ug=/ems.cHJkLWVtcy1hc3NldHMvbW92aWVzLzBkMmNiMjY3LWM1MzEtNDQ5MS1hODYzLWNhNjQ1YzlhM2ZlNS5qcGc='),\n",
       " ('Cat Daddies', 'Opened Oct 14, 2022', '/m/cat_daddies', 'https://resizing.flixster.com/KqpQpOE25AhiVkEwDcjfmpA8GbE=/180x258/v2/https://resizing.flixster.com/c-3XvHz2r63Nk_x-yChE4T6Ln5g=/ems.cHJkLWVtcy1hc3NldHMvbW92aWVzLzQ3MGQ3OWI0LTdhYzYtNDUxNS04NDg5LTRhZGI4ODkzYWRmMy5qcGc='),\n",
       " ('Only in Theaters', 'Opened Nov 18, 2022', '/m/only_in_theaters', 'https://resizing.flixster.com/I-HvdSp1qBRD2rhLiIU2opKWl2k=/180x258/v2/https://resizing.flixster.com/HOrDD2r812sQMAyQ_4ndIg4byY4=/ems.cHJkLWVtcy1hc3NldHMvbW92aWVzLzFhMDRiZjcwLTJiN2ItNGI2Yi1iZWFiLTExYWVjNjgyMmUwYi5qcGc='),\n",
       " ('Corsage', 'Opened Dec 23, 2022', '/m/corsage', 'https://resizing.flixster.com/Qq_yxSo6jtnwbG9b98gr5yLGNTk=/180x258/v2/https://resizing.flixster.com/yyxVyKHQxrk4Xvdpo9kuZ7-T3Ls=/ems.cHJkLWVtcy1hc3NldHMvbW92aWVzL2NmOTkzYjhkLWI1YjItNGMzMS04NzA5LWFmZDg1MDBkYTU3ZC5qcGc='),\n",
       " ('Framing Agnes', 'Opened Dec 02, 2022', '/m/framing_agnes_2022', 'https://resizing.flixster.com/c-OTx7mwZ0Fp2Oe0fSXLNhhHiUc=/180x258/v2/https://resizing.flixster.com/uAim3rcBWN6qbjlgZ5GUQiDkhYQ=/ems.cHJkLWVtcy1hc3NldHMvbW92aWVzL2MyNWU2YWY2LTM0YWYtNGE0Yi05ZGIxLTFhNDNiYjkwNGY5OS5qcGc='),\n",
       " ('The Super 8 Years', 'Opened Dec 16, 2022', '/m/the_super_8_years', 'https://resizing.flixster.com/P_h4QMIN3-B20zHWAwZ19EcWTBE=/180x258/v2/https://resizing.flixster.com/oioWasWVduN_wwk-lUkktIIqDuM=/ems.cHJkLWVtcy1hc3NldHMvbW92aWVzLzRjYjJlYWFhLTkyNWItNGU5ZC05NzJjLTVkYWM2MWQ2ODc5Yy5qcGc='),\n",
       " ('Creed III', 'Opened Mar 03, 2023', '/m/creed_iii', 'https://resizing.flixster.com/dA0nc4RwPzrLFueRIGRzB35a-WQ=/180x258/v2/https://resizing.flixster.com/6R5NafclJ9o7utVZiBRX9S5Z_2g=/ems.cHJkLWVtcy1hc3NldHMvbW92aWVzLzlkMTI1OGQzLTI0ZTMtNDZhZC1hNzllLTNlNzIxZGY1ZDA4Mi5qcGc='),\n",
       " ('Operation Fortune: Ruse de guerre', 'Opened Mar 03, 2023', '/m/operation_fortune_ruse_de_guerre', 'https://resizing.flixster.com/M-fe_C7Auo5BOOUid5n2Z8nvJqI=/180x258/v2/https://resizing.flixster.com/ihW3AkVfbMt8NuWOLDArKbLQiw8=/ems.cHJkLWVtcy1hc3NldHMvbW92aWVzLzY5YzM2YjdjLWI2ZWMtNDkzOS1iOWRmLWI1OTIxNzJlYmU2OS5qcGc='),\n",
       " ('Demon Slayer: Kimetsu no Yaiba -To the Swordsmith Village-', 'Opened Mar 03, 2023', '/m/demon_slayer_kimetsu_no_yaiba_to_the_swordsmith_village', 'https://resizing.flixster.com/c9drIqlTFJ4PQ9rXc4LmR3c6LRg=/180x258/v2/https://resizing.flixster.com/xkP5Au0QZpS3o13TgBmswdBC_bA=/ems.cHJkLWVtcy1hc3NldHMvbW92aWVzLzE2NTBhZGRkLTM5ZTAtNDU5Yy1hOTYyLTI4YTEyMmJkZTRlNi5qcGc='),\n",
       " ('Children of the Corn', 'Opened Mar 03, 2023', '/m/children_of_the_corn', 'https://resizing.flixster.com/SMXuufl-J9czF2ks7vomdQ5gIaY=/180x258/v2/https://resizing.flixster.com/BqFk0W3r3sk7VcZbKzcyt2ZJxro=/ems.cHJkLWVtcy1hc3NldHMvbW92aWVzL2NjZDMxODI3LTMyMWMtNGYzYi1iMmQ5LTgzNjBjMmQwYzYwYi5qcGc='),\n",
       " ('Palm Trees and Power Lines', 'Opened Mar 03, 2023', '/m/palm_trees_and_power_lines', 'https://resizing.flixster.com/yUPCU7LElV7Hg3cW7ACbp-TY2eI=/180x258/v2/https://resizing.flixster.com/vD-Eo_xUZwLs5hUz6-p3aH2qjTk=/ems.cHJkLWVtcy1hc3NldHMvbW92aWVzL2M5ZmU0N2Y5LWQ0OWItNGY0Mi04ZmNjLWNlZDI2NzBjNDYxMi5qcGc='),\n",
       " ('What We Do Next', 'Opened Mar 03, 2023', '/m/what_we_do_next', 'https://resizing.flixster.com/blkBDpKQ3RGyXxqPsEDQzV7aIs8=/180x258/v2/https://resizing.flixster.com/-yhTgOnxnXTJthemmHL6KMXql0Y=/ems.cHJkLWVtcy1hc3NldHMvbW92aWVzLzVlOTI4NmE5LTJiYjUtNGQ4ZC1iYWQ0LTFiZGMxMjQ1OTg3MS5wbmc='),\n",
       " ('The Donor Party', 'Opened Mar 03, 2023', '/m/the_donor_party', 'https://resizing.flixster.com/keBaz0evWij7jkDW02Clv0Pdfo0=/180x258/v2/https://resizing.flixster.com/85wHjHyw_OqqHXsmcQICVUqX9ec=/ems.cHJkLWVtcy1hc3NldHMvbW92aWVzL2Q0ODhjNzFhLTE5ZTYtNDNkOS1iYTljLWI3YjM5ZmNkNDA4ZS5qcGc='),\n",
       " ('A Little White Lie', 'Opened Mar 03, 2023', '/m/a_little_white_lie_2023', 'https://resizing.flixster.com/ldHgK5SWMo5KHQro6LDDVWe46-w=/180x258/v2/https://resizing.flixster.com/3r3rmvexGId9qKSsK5BGl49Sb88=/ems.cHJkLWVtcy1hc3NldHMvbW92aWVzLzVlNTZiMzFjLWY5NjMtNGM5Mi1iYzVmLTZiZmQxYTQ4ZjhhYy5qcGc='),\n",
       " ('Blueback', 'Opened Mar 03, 2023', '/m/blueback', 'https://resizing.flixster.com/Miy2asi6pV910cb9vXIfll7rpUc=/180x258/v2/https://resizing.flixster.com/k7Bb2_yiccREL5ty3BAIXndO7to=/ems.cHJkLWVtcy1hc3NldHMvbW92aWVzL2ZkYmNkMjEwLWM2ZmUtNGRiMS1hNzczLWRkOTlkMDE3OTk3OC5qcGc='),\n",
       " ('Transfusion', 'Opened Mar 03, 2023', '/m/transfusion_2022', 'https://resizing.flixster.com/48srGeL9crLCeOS9B34HupV8_Pc=/180x258/v2/https://resizing.flixster.com/mtoRpiMe73CGWDtUVZ0ojRSmqvQ=/ems.cHJkLWVtcy1hc3NldHMvbW92aWVzL2UxYWRjMzI3LTM0OGUtNGY2ZS1iOTQ1LWYxM2IxMDI4MDI2Zi5qcGc='),\n",
       " ('The Forger', 'Opened Mar 03, 2023', '/m/the_forger_2022', 'https://resizing.flixster.com/ZOhFpZulN2aozBhCj6DSBovR530=/180x258/v2/https://resizing.flixster.com/MBqUvgQ8N8ATiZtz881-fFXHi3o=/ems.cHJkLWVtcy1hc3NldHMvbW92aWVzL2ViOWJkNDQ4LTg5YzAtNDE4Zi1iYjE5LWEzNWVkZWRmODM3NS5qcGc='),\n",
       " ('Hunt Her, Kill Her', 'Opened Mar 03, 2023', '/m/hunt_her_kill_her', 'https://resizing.flixster.com/huc_wVFWiFovRTblpYs02f-xByM=/180x258/v2/https://resizing.flixster.com/hXe6UAto8S1yL66DA16O2NX-xxI=/ems.cHJkLWVtcy1hc3NldHMvbW92aWVzLzZkOTVjMjRmLTU4MjAtNGY0ZC04NzM1LWM4NWZkZTEzMDc5ZC5qcGc='),\n",
       " ('The Year Between', 'Opened Mar 03, 2023', '/m/the_year_between', 'https://resizing.flixster.com/-iyTBI2hfCLCjsEG36TyrmDJxv4=/180x258/v2/https://resizing.flixster.com/SU_oLtM_Q4ddJ5ppp2VR7i1koQ8=/ems.cHJkLWVtcy1hc3NldHMvbW92aWVzLzliMzRiMzQyLTc2ZjctNDM5Ny1iNTcwLTNhOWQ3NDhlZmMxYy5qcGc='),\n",
       " ('Give Me Pity!', 'Opened Mar 03, 2023', '/m/give_me_pity', 'https://resizing.flixster.com/pqkAl3w66ifF9llUUd2ZhFETptk=/180x258/v2/https://resizing.flixster.com/ow2pMD7Xp0A3HO-5Qe4nFE_m_v4=/ems.cHJkLWVtcy1hc3NldHMvbW92aWVzLzAwNDUyMWFmLTk2OGYtNGFjOS1hMDEwLTI2NGI2MzBlYWFkMy5qcGc='),\n",
       " ('Film, the Living Record of Our Memory', 'Opened Feb 27, 2023', '/m/film_the_living_record_of_our_memory', 'https://resizing.flixster.com/TFIqMHFx1PY4Bz_ATtIieb1sVpI=/180x258/v2/https://resizing.flixster.com/jDxHAzohMiwKazNK8nMyv5d_QcY=/ems.cHJkLWVtcy1hc3NldHMvbW92aWVzLzQyMGNkMTQzLWY3NmQtNGFjMi1hZjRjLTM2MmM4ZDRhNDEwOC5qcGc='),\n",
       " ('Gods of Mexico', 'Opened Mar 03, 2023', '/m/gods_of_mexico', 'https://resizing.flixster.com/cSu8thMRYqhvrb5394MfSvEZzyc=/180x258/v2/https://resizing.flixster.com/w5StCMpCqf79rPnpJgLYSGHhL6k=/ems.cHJkLWVtcy1hc3NldHMvbW92aWVzLzllY2U3YWVhLTFmOTQtNDdiZi05OTRiLTk5M2Y4YjcwYzk2ZC5qcGc='),\n",
       " ('Primary Position', 'Opened Mar 01, 2023', '/m/primary_position', 'https://resizing.flixster.com/dngPwzfZVGPETNwnvZm4FhNbcX0=/180x258/v2/https://resizing.flixster.com/PV1yMy3NdKx3gwNji4HhhYjMgLQ=/ems.cHJkLWVtcy1hc3NldHMvbW92aWVzLzM4NGFmNGQzLTliYmYtNGMyMi1iMjJkLWYzNDg3MzEyMzMwZC5qcGc='),\n",
       " ('The House of No Man', 'Opened Mar 03, 2023', '/m/the_house_of_no_man', 'https://resizing.flixster.com/RYnpRPMjuczG9i7LJ29zdkgqJk4=/180x258/v2/https://resizing.flixster.com/RGrMaVP2nVRMhzsnJ25RBBmHq7s=/ems.cHJkLWVtcy1hc3NldHMvbW92aWVzLzQyNGI3MDNiLTQyOWQtNGY5MC05ODcwLTY5NTQ2NTBhZWFkMy5qcGc='),\n",
       " ('RRR Fan CelebRRRation', 'Opened Mar 03, 2023', '/m/rrr_fan_celebrrration', 'https://resizing.flixster.com/qV5xbE22mBtmHbcWjMf18nA4T_U=/180x258/v2/https://resizing.flixster.com/maWp47H4MPeYhmUu9yLOj7AL1CY=/ems.cHJkLWVtcy1hc3NldHMvbW92aWVzL2M4Mjk1MzAxLTIyODUtNGY1Zi1hMTcyLWIyNWRkZTJmNDkzYy5qcGc='),\n",
       " ('The Headmistress', 'Opened Mar 03, 2023', '/m/the_headmistress_2023', 'https://resizing.flixster.com/kQwiEgLSbeNdaXALykljgMLMPe4=/180x258/v2/https://resizing.flixster.com/os2ef59UABOs4apVJx33GJaTKME=/ems.cHJkLWVtcy1hc3NldHMvbW92aWVzLzQ0Y2NjOWRkLTkwNjEtNDQzZi1iMTJmLTNiY2RlZDk3ZWRkMS5qcGc='),\n",
       " ('La Civil', 'Opened Mar 03, 2023', '/m/la_civil', 'https://resizing.flixster.com/9R9nhr0t5JT28BDmD9M8dirR2dg=/180x258/v2/https://resizing.flixster.com/xrzMNCps4B8WmTBPpw6OCAKne9w=/ems.cHJkLWVtcy1hc3NldHMvbW92aWVzLzNkNTY5YjI2LWFjMzMtNGRmNi1iZjZlLWQ5MjVkMjU4ODYwYi5qcGc='),\n",
       " ('Still the Water', 'Opened Mar 03, 2023', '/m/still_the_water', 'https://resizing.flixster.com/I8xBiXHPCeVST-V19zXw3H21ijo=/180x258/v2/https://resizing.flixster.com/VC2PJvWzMy7URVgcsYtzagJtGSE=/ems.cHJkLWVtcy1hc3NldHMvbW92aWVzLzIzMjg4MDVjLWRjNmQtNDAyNC1iMGQ0LTMyMzg1Y2NjYmMwMC5qcGc='),\n",
       " ('UFC 285: Jones vs. Gane', 'Opened Mar 04, 2023', '/m/ufc_285_jones_vs_gane', 'https://resizing.flixster.com/eelH5MlDvlkZOAQhdT-qc5cEPmY=/180x258/v2/https://resizing.flixster.com/EH9_C_FKccQlf3krMD465VAa84s=/ems.cHJkLWVtcy1hc3NldHMvbW92aWVzL2NhM2Y1YTU1LWU5NjMtNDFjMi1iNmVjLTBjNTZhNjE3ZThlZS5qcGc='),\n",
       " ('Thomas & Friends: The Mystery of Lookout Mountain', 'Opened Mar 04, 2023', '/m/thomas_and_friends_the_mystery_of_lookout_mountain', 'https://resizing.flixster.com/t6AsvSZ0-_oY39qajv_uKx_m6Ns=/180x258/v2/https://flxt.tmsimg.com/assets/p23643851_v_v8_af.jpg'),\n",
       " ('The Spider', 'Opened Mar 03, 2023', '/m/the_spider_2022', 'https://resizing.flixster.com/N2r-s7wckLtcqDThdrcKfTt1K5E=/180x258/v2/https://resizing.flixster.com/IYR_RH8C0v1nNXRn3O00uy9DsFE=/ems.cHJkLWVtcy1hc3NldHMvbW92aWVzLzQyNDdjN2I0LTk1M2EtNDhjOC1hY2VlLTI1NTZiNzMzZTFiYi5qcGc='),\n",
       " ('Saachi', 'Opened Mar 03, 2023', '/m/saachi', 'https://resizing.flixster.com/YMtPRMxggfEuBU5A3LxVYqDMNGg=/180x258/v2/https://resizing.flixster.com/WHh6kAcegMGp8B-XNk8BEBhE5T8=/ems.cHJkLWVtcy1hc3NldHMvbW92aWVzLzNkZDI4YTdiLTFkMTMtNGUyNi1iODAzLTM1YTQzYWYwMzAwNy5qcGc=')]"
      ]
     },
     "execution_count": 32,
     "metadata": {},
     "output_type": "execute_result"
    }
   ],
   "source": [
    "# test\n",
    "sql_query='''\n",
    "SELECT * \n",
    "FROM movies;\n",
    "'''\n",
    "\n",
    "engine.execute(sql_query).fetchall()"
   ]
  },
  {
   "cell_type": "markdown",
   "id": "5e339c3a-785c-4062-ad77-587b02e1ac85",
   "metadata": {},
   "source": [
    "#### Option 3. Using ORM ####\n",
    "* use `declarative_base` if schema/table doesn't exist or\n",
    "* use `automap_base` if schema/table exist"
   ]
  },
  {
   "cell_type": "code",
   "execution_count": 68,
   "id": "5b83dfcf-319d-4067-a9f5-b30f7e583703",
   "metadata": {},
   "outputs": [],
   "source": [
    "from sqlalchemy.ext.declarative import declarative_base\n",
    "from sqlalchemy.ext.automap import automap_base\n",
    "from sqlalchemy import Column, String, Integer\n",
    "\n",
    "from sqlalchemy.orm import Session"
   ]
  },
  {
   "cell_type": "code",
   "execution_count": 69,
   "id": "c9979742-9dc4-495e-907a-c274040db6fc",
   "metadata": {},
   "outputs": [],
   "source": [
    "# use declarative_base to create a Base if schema doesn't exist\n",
    "Base=declarative_base()"
   ]
  },
  {
   "cell_type": "code",
   "execution_count": 70,
   "id": "f22662a3-b8ce-4c39-b47a-95fd2bcd2192",
   "metadata": {},
   "outputs": [],
   "source": [
    "# define Python class to map to table\n",
    "class Movie(Base): \n",
    "    __tablename__='movies'\n",
    "    id=Column(Integer, primary_key=True)\n",
    "    title=Column(String)\n",
    "    open_date=Column(String)\n",
    "    movie_link=Column(String)\n",
    "    poster_link=Column(String)"
   ]
  },
  {
   "cell_type": "code",
   "execution_count": 71,
   "id": "8b5d0ec4-e430-4b71-92c9-6181e919f505",
   "metadata": {},
   "outputs": [],
   "source": [
    "# check db if schema already exists and/or matches with Base\n",
    "Base.metadata.create_all(engine)"
   ]
  },
  {
   "cell_type": "code",
   "execution_count": 49,
   "id": "ee87da60-227a-4a92-be01-c81f86dfe21e",
   "metadata": {},
   "outputs": [
    {
     "name": "stdout",
     "output_type": "stream",
     "text": [
      "Tables list: ['movies']\n"
     ]
    }
   ],
   "source": [
    "# use automap_base to create a Base if schema exists\n",
    "# Base=automap_base()\n",
    "# Base.prepare(engine, reflect=True)\n",
    "\n",
    "# print(f'Tables list: {Base.classes.keys()}')\n",
    "\n",
    "# Movie=Base.classes.movies"
   ]
  },
  {
   "cell_type": "code",
   "execution_count": 72,
   "id": "281f23f7-e3cd-401e-ac05-74251452488d",
   "metadata": {},
   "outputs": [],
   "source": [
    "session=Session(engine)"
   ]
  },
  {
   "cell_type": "code",
   "execution_count": 73,
   "id": "5233af7a-91ce-48c8-8860-17429ef24de7",
   "metadata": {},
   "outputs": [
    {
     "name": "stdout",
     "output_type": "stream",
     "text": [
      "Inserting 1...\n",
      "Inserting 2...\n",
      "Inserting 3...\n",
      "Inserting 4...\n",
      "Inserting 5...\n",
      "Inserting 6...\n",
      "Inserting 7...\n",
      "Inserting 8...\n",
      "Inserting 9...\n",
      "Inserting 10...\n",
      "Inserting 11...\n",
      "Inserting 12...\n",
      "Inserting 13...\n",
      "Inserting 14...\n",
      "Inserting 15...\n",
      "Inserting 16...\n",
      "Inserting 17...\n",
      "Inserting 18...\n",
      "Inserting 19...\n",
      "Inserting 20...\n",
      "Inserting 21...\n",
      "Inserting 22...\n",
      "Inserting 23...\n",
      "Inserting 24...\n",
      "Inserting 25...\n",
      "Inserting 26...\n",
      "Inserting 27...\n",
      "Inserting 28...\n",
      "Inserting 29...\n",
      "Inserting 30...\n",
      "Inserting 31...\n",
      "Inserting 32...\n",
      "Inserting 33...\n",
      "Inserting 34...\n",
      "Inserting 35...\n",
      "Inserting 36...\n",
      "Inserting 37...\n",
      "Inserting 38...\n",
      "Inserting 39...\n",
      "Inserting 40...\n",
      "Inserting 41...\n",
      "Inserting 42...\n",
      "Inserting 43...\n",
      "Inserting 44...\n",
      "Inserting 45...\n",
      "Inserting 46...\n",
      "Inserting 47...\n",
      "Inserting 48...\n",
      "Inserting 49...\n",
      "Inserting 50...\n",
      "Inserting 51...\n",
      "Inserting 52...\n",
      "Inserting 53...\n",
      "Inserting 54...\n",
      "Inserting 55...\n",
      "Inserting 56...\n",
      "Inserting 57...\n",
      "Inserting 58...\n",
      "Inserting 59...\n",
      "Inserting 60...\n",
      "Inserting 61...\n",
      "Inserting 62...\n",
      "Inserting 63...\n",
      "Inserting 64...\n",
      "Inserting 65...\n",
      "Inserting 66...\n",
      "Inserting 67...\n",
      "Inserting 68...\n",
      "Inserting 69...\n",
      "Inserting 70...\n",
      "Inserting 71...\n",
      "Inserting 72...\n",
      "Inserting 73...\n",
      "Inserting 74...\n",
      "Inserting 75...\n",
      "Inserting 76...\n",
      "Inserting 77...\n",
      "Inserting 78...\n",
      "Inserting 79...\n",
      "Inserting 80...\n",
      "Inserting 81...\n",
      "Inserting 82...\n",
      "Inserting 83...\n",
      "Inserting 84...\n",
      "Inserting 85...\n",
      "Inserting 86...\n",
      "Inserting 87...\n",
      "Inserting 88...\n",
      "Inserting 89...\n",
      "Inserting 90...\n",
      "Inserting 91...\n",
      "Inserting 92...\n",
      "Inserting 93...\n",
      "Inserting 94...\n",
      "Inserting 95...\n",
      "Inserting 96...\n",
      "Inserting 97...\n"
     ]
    }
   ],
   "source": [
    "idx=1\n",
    "with open('data/data.csv') as f: \n",
    "    csv_reader=csv.reader(f)\n",
    "    header=next(csv_reader)\n",
    "    for row in csv_reader: \n",
    "        print(f'Inserting {idx}...')\n",
    "        # use dictionary comprehension to create movie dictionary\n",
    "        movie_dict={k:v for (k, v) in zip(header, row)}\n",
    "        # use movie dictionary to create new Movie objects\n",
    "        movie_dict['id']=idx\n",
    "        new_movie=Movie(**movie_dict)\n",
    "        # insert record\n",
    "        session.add(new_movie)\n",
    "        idx+=1\n",
    "        \n",
    "session.commit()"
   ]
  },
  {
   "cell_type": "code",
   "execution_count": 66,
   "id": "935349aa-1436-4213-991e-e420ee4bfae4",
   "metadata": {},
   "outputs": [
    {
     "data": {
      "text/plain": [
       "[(1, 'The Thorn', 'Opened Mar 06, 2023', '/m/the_thorn_2023', 'https://resizing.flixster.com/bFeiUQwfc2drDpWul3gV3g9PAXk=/180x258/v2/https://resizing.flixster.com/m9SUebSjlMIrn5G9VEGmx6mKL3c=/ems.cHJkLWVtcy1hc3NldHMvbW92aWVzL2ZmNmVhOThmLWZiN2EtNGMzOS1hODc5LThjNTI5YjU4OTc4Yy5qcGc=')]"
      ]
     },
     "execution_count": 66,
     "metadata": {},
     "output_type": "execute_result"
    }
   ],
   "source": [
    "engine.execute('select * from movies').fetchall()"
   ]
  }
 ],
 "metadata": {
  "kernelspec": {
   "display_name": "Python 3",
   "language": "python",
   "name": "python3"
  },
  "language_info": {
   "codemirror_mode": {
    "name": "ipython",
    "version": 3
   },
   "file_extension": ".py",
   "mimetype": "text/x-python",
   "name": "python",
   "nbconvert_exporter": "python",
   "pygments_lexer": "ipython3",
   "version": "3.7.1"
  }
 },
 "nbformat": 4,
 "nbformat_minor": 5
}
